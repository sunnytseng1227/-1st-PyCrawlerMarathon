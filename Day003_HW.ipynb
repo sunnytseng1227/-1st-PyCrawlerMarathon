{
 "nbformat": 4,
 "nbformat_minor": 2,
 "metadata": {
  "language_info": {
   "name": "python",
   "codemirror_mode": {
    "name": "ipython",
    "version": 3
   },
   "version": "3.7.4"
  },
  "orig_nbformat": 2,
  "file_extension": ".py",
  "mimetype": "text/x-python",
  "name": "python",
  "npconvert_exporter": "python",
  "pygments_lexer": "ipython3",
  "version": 3
 },
 "cells": [
  {
   "cell_type": "code",
   "metadata": {},
   "outputs": [],
   "source": [
    "# 比較一下範例檔案中的「File I/O」與「xmltodict」讀出來的內容有什麼差異\n",
    "# 根據範例檔案的結果：\n",
    "# 1. 請問高雄市有多少地區有溫度資料？\n",
    "# 2. 請取出每一個地區所記錄的第一個時間點跟溫度\n",
    "# 3. 請取出第一個地區所記錄的每一個時間點跟溫度"
   ]
  },
  {
   "cell_type": "code",
   "metadata": {},
   "outputs": [],
   "source": [
    "\n",
    "#使用xml.dom\n",
    "\n",
    "import xml.dom.minidom \n",
    "# 存取檔案\n",
    "doc = xml.dom.minidom.parse(\"./Data/sample.xml\")\n",
    "# 存取我們的資訊\n",
    "print(doc.getElementsByTagName(\"Title\")[0].firstChild.nodeValue)\n",
    "# 用迴圈存取我們的資訊\n",
    "chapters = doc.getElementsByTagName(\"Chapter\")\n",
    "for chapter in chapters:\n",
    "    print (chapter.getAttribute('name'), chapter.firstChild.nodeValue)\n",
    "\n",
    "#使用xml.etree\n",
    "print(\"\\n####\\n使用xml.etree\\n####\")\n",
    "import xml.etree.ElementTree as ET  \n",
    "tree = ET.parse(\"./Data/sample.xml\") \n",
    "root=tree.getroot()\n",
    "# print(root)\n",
    "root_title =root[0].text\n",
    "print(root_title)\n",
    "root_Chapters =root[2]\n",
    "for row in root_Chapters:  \n",
    "    print(row.attrib[\"name\"],row.text)\n",
    "\n"
   ]
  },
  {
   "cell_type": "code",
   "metadata": {},
   "outputs": [],
   "source": [
    "import xmltodict\n",
    "# 存取檔案\n",
    "with open(\"./Data/64_72hr_CH.xml\", encoding = 'utf8') as fd:\n",
    "    doc = dict(xmltodict.parse(fd.read()))\n",
    "\n",
    "# 1. 請問高雄市有多少地區有溫度資料？\n",
    "chapters = doc['cwbopendata']['dataset']['locations']['location']\n",
    "\n",
    "count = sum(1 for x in chapters)\n",
    "print(\"請問高雄市有多少地區有溫度資料？\", count)"
   ]
  },
  {
   "cell_type": "code",
   "metadata": {},
   "outputs": [],
   "source": [
    "# 2. 請取出每一個地區所記錄的第一個時間點跟溫度\n",
    "i=0\n",
    "while i<=37:\n",
    "\n",
    "    locationName_list = doc['cwbopendata']['dataset']['locations']['location'][i]['locationName']#地區   \n",
    "    location_dataTime = doc['cwbopendata']['dataset']['locations']['location'][i]['weatherElement'][0]['time'][0]['dataTime']#第一個時間點  \n",
    "    location_weather_measures= doc['cwbopendata']['dataset']['locations']['location'][i]['weatherElement'][0]['time'][0][\"elementValue\"][\"measures\"]#第一個時間點的溫度\n",
    "    location_weather_= doc['cwbopendata']['dataset']['locations']['location'][i]['weatherElement'][0]['time'][0][\"elementValue\"][\"value\"]#第一個時間點的溫度\n",
    "    \n",
    "    print(locationName_list,location_dataTime,location_weather_measures,location_weather_)#第一個時間點\n",
    "    i+=1"
   ]
  },
  {
   "cell_type": "code",
   "execution_count": 12,
   "metadata": {},
   "outputs": [
    {
     "name": "stdout",
     "output_type": "stream",
     "text": "鹽埕區\n2019-06-28T12:00:00+08:00 攝氏度 33\n2019-06-28T15:00:00+08:00 攝氏度 33\n2019-06-28T18:00:00+08:00 攝氏度 32\n2019-06-28T21:00:00+08:00 攝氏度 30\n2019-06-29T00:00:00+08:00 攝氏度 30\n2019-06-29T03:00:00+08:00 攝氏度 29\n2019-06-29T06:00:00+08:00 攝氏度 28\n2019-06-29T09:00:00+08:00 攝氏度 31\n2019-06-29T12:00:00+08:00 攝氏度 32\n2019-06-29T15:00:00+08:00 攝氏度 32\n2019-06-29T18:00:00+08:00 攝氏度 31\n2019-06-29T21:00:00+08:00 攝氏度 30\n2019-06-30T00:00:00+08:00 攝氏度 29\n2019-06-30T03:00:00+08:00 攝氏度 28\n2019-06-30T06:00:00+08:00 攝氏度 28\n2019-06-30T09:00:00+08:00 攝氏度 31\n2019-06-30T12:00:00+08:00 攝氏度 32\n2019-06-30T15:00:00+08:00 攝氏度 32\n2019-06-30T18:00:00+08:00 攝氏度 31\n2019-06-30T21:00:00+08:00 攝氏度 30\n2019-07-01T00:00:00+08:00 攝氏度 29\n2019-07-01T03:00:00+08:00 攝氏度 29\n2019-07-01T06:00:00+08:00 攝氏度 28\n2019-07-01T09:00:00+08:00 攝氏度 31\n"
    }
   ],
   "source": [
    "# 3. 請取出第一個地區所記錄的每一個時間點跟溫度\n",
    "first_location = doc['cwbopendata']['dataset']['locations']['location'][0]['locationName']\n",
    "                      \n",
    "print(first_location)\n",
    "first_location_rows = doc['cwbopendata']['dataset']['locations']['location'][0]['weatherElement'][0]['time']\n",
    "for list_ in first_location_rows:\n",
    "    dataTime_=list_[\"dataTime\"]\n",
    "    measures_=list_[\"elementValue\"][\"measures\"]\n",
    "    weather_=list_[\"elementValue\"][\"value\"]\n",
    "    print(dataTime_,measures_,weather_)"
   ]
  },
  {
   "cell_type": "code",
   "execution_count": null,
   "metadata": {},
   "outputs": [],
   "source": []
  }
 ]
}