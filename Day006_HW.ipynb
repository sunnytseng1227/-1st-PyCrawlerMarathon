{
 "nbformat": 4,
 "nbformat_minor": 2,
 "metadata": {
  "language_info": {
   "name": "python",
   "codemirror_mode": {
    "name": "ipython",
    "version": 3
   },
   "version": "3.7.4"
  },
  "orig_nbformat": 2,
  "file_extension": ".py",
  "mimetype": "text/x-python",
  "name": "python",
  "npconvert_exporter": "python",
  "pygments_lexer": "ipython3",
  "version": 3
 },
 "cells": [
  {
   "cell_type": "code",
   "execution_count": 66,
   "metadata": {},
   "outputs": [
    {
     "data": {
      "text/plain": "'<html>\\r\\n<head><title>400 Bad Request</title></head>\\r\\n<body bgcolor=\"white\">\\r\\n<center><h1>400 Bad Request</h1></center>\\r\\n<hr><center>openresty</center>\\r\\n</body>\\r\\n</html>\\r\\n'"
     },
     "execution_count": 66,
     "metadata": {},
     "output_type": "execute_result"
    }
   ],
   "source": [
    "import requests\n",
    "r = requests.get('https://www.zhihu.com/api/v4/questions/55493026/answers')\n",
    "response = r.text\n",
    "response"
   ]
  },
  {
   "cell_type": "code",
   "execution_count": 67,
   "metadata": {},
   "outputs": [
    {
     "data": {
      "text/plain": "'{\"data\":[{\"id\":683070334,\"type\":\"answer\",\"answer_type\":\"normal\",\"question\":{\"type\":\"question\",\"id\":55493026,\"title\":\"你们都是怎么学 Python 的？\",\"question_type\":\"normal\",\"created\":1486390229,\"updated_time\":1543075931,\"url\":\"https://www.zhihu.com/api/v4/questions/55493026\",\"relationship\":{}},\"author\":{\"id\":\"36f69162230003d316d0b8a6d8da20ba\",\"url_token\":\"liang-zi-wei-48\",\"name\":\"量子位\",\"avatar_url\":\"https://pic4.zhimg.com/v2-ca6e7ffc10a0d10edbae635cee82d007_is.jpg\",\"avatar_url_template\":\"https://pic4.zhimg.com/v2-ca6e7ffc10a0d10edbae635cee82d007_{size}.jpg\",\"is_org\":true,\"type\":\"people\",\"url\":\"https://www.zhihu.com/api/v4/people/36f69162230003d316d0b8a6d8da20ba\",\"user_type\":\"organization\",\"headline\":\"有趣的前沿科技→_→ 公众号：QbitAI\",\"badge\":[{\"type\":\"identity\",\"description\":\"已认证的官方帐号\",\"topics\":[]},{\"type\":\"best_answerer\",\"description\":\"优秀回答者\",\"topics\":[]}],\"gender\":-1,\"is_advertiser\":false,\"is_privacy\":false},\"url\":\"https://www.zhihu.com/api/v4/answers/683070334\",\"is_collapsed\":false,\"created_time\":1557824412,\"updated_time\":1557824412,\"extras\":\"\",\"is_copyable\":true,\"relationship\":{\"upvoted_followees\":[]}},{\"id\":637938925,\"type\":\"answer\",\"answer_type\":\"normal\",\"question\":{\"type\":\"question\",\"id\":55493026,\"title\":\"你们都是怎么学 Python 的？\",\"question_type\":\"normal\",\"created\":1486390229,\"updated_time\":1543075931,\"url\":\"https://www.zhihu.com/api/v4/questions/55493026\",\"relationship\":{}},\"author\":{\"id\":\"e8c4768eaa41e3749f7e8bc5ac6aa74b\",\"url_token\":\"Lanyuneet\",\"name\":\"Slumbers\",\"avatar_url\":\"https://pic4.zhimg.com/v2-314544f90f2a16f9ed161dc6ab6d00ed_is.jpg\",\"avatar_url_template\":\"https://pic4.zhimg.com/v2-314544f90f2a16f9ed161dc6ab6d00ed_{size}.jpg\",\"is_org\":false,\"type\":\"people\",\"url\":\"https://www.zhihu.com/api/v4/people/e8c4768eaa41e3749f7e8bc5ac6aa74b\",\"user_type\":\"people\",\"headline\":\"算法工程师\",\"badge\":[],\"gender\":0,\"is_advertiser\":false,\"is_privacy\":false},\"url\":\"https://www.zhihu.com/api/v4/answers/637938925\",\"is_collapsed\":false,\"created_time\":1554085028,\"updated_time\":1558451618,\"extras\":\"\",\"is_copyable\":true,\"relationship\":{\"upvoted_followees\":[]}},{\"id\":163642949,\"type\":\"answer\",\"answer_type\":\"normal\",\"question\":{\"type\":\"question\",\"id\":55493026,\"title\":\"你们都是怎么学 Python 的？\",\"question_type\":\"normal\",\"created\":1486390229,\"updated_time\":1543075931,\"url\":\"https://www.zhihu.com/api/v4/questions/55493026\",\"relationship\":{}},\"author\":{\"id\":\"788f207a6bf8f66c5bad79bd0f011065\",\"url_token\":\"simonlearn\",\"name\":\"赛门喵Simon\",\"avatar_url\":\"https://pic2.zhimg.com/v2-03afe381dbea789c0f918d6aac15556c_is.jpg\",\"avatar_url_template\":\"https://pic2.zhimg.com/v2-03afe381dbea789c0f918d6aac15556c_{size}.jpg\",\"is_org\":false,\"type\":\"people\",\"url\":\"https://www.zhihu.com/api/v4/people/788f207a6bf8f66c5bad79bd0f011065\",\"user_type\":\"people\",\"headline\":\"英语公众号「赛门喵Simon」，不关注你会后悔。\",\"badge\":[{\"type\":\"identity\",\"description\":\"新加坡南洋理工大学 电气工程博士\",\"topics\":[]}],\"gender\":1,\"is_advertiser\":false,\"is_privacy\":false},\"url\":\"https://www.zhihu.com/api/v4/answers/163642949\",\"is_collapsed\":false,\"created_time\":1493707703,\"updated_time\":1493708357,\"extras\":\"\",\"is_copyable\":false,\"relationship\":{\"upvoted_followees\":[]}},{\"id\":163537026,\"type\":\"answer\",\"answer_type\":\"normal\",\"question\":{\"type\":\"question\",\"id\":55493026,\"title\":\"你们都是怎么学 Python 的？\",\"question_type\":\"normal\",\"created\":1486390229,\"updated_time\":1543075931,\"url\":\"https://www.zhihu.com/api/v4/questions/55493026\",\"relationship\":{}},\"author\":{\"id\":\"eaf435b228ce0b038a4afe8203f59b49\",\"url_token\":\"sgai\",\"name\":\"路人甲\",\"avatar_url\":\"https://pic3.zhimg.com/958a18f3216805bed269d158fb83325a_is.jpg\",\"avatar_url_template\":\"https://pic3.zhimg.com/958a18f3216805bed269d158fb83325a_{size}.jpg\",\"is_org\":false,\"type\":\"people\",\"url\":\"https://www.zhihu.com/api/v4/people/eaf435b228ce0b038a4afe8203f59b49\",\"user_type\":\"people\",\"headline\":\"微信公众号：路人甲TM，微信：thisnozy\",\"badge\":[],\"gender\":1,\"is_advertiser\":false,\"is_privacy\":false},\"url\":\"https://www.zhihu.com/api/v4/answers/163537026\",\"is_collapsed\":false,\"created_time\":1493693113,\"updated_time\":1555137867,\"extras\":\"\",\"is_copyable\":true,\"relationship\":{\"upvoted_followees\":[]}},{\"id\":873825546,\"type\":\"answer\",\"answer_type\":\"normal\",\"question\":{\"type\":\"question\",\"id\":55493026,\"title\":\"你们都是怎么学 Python 的？\",\"question_type\":\"normal\",\"created\":1486390229,\"updated_time\":1543075931,\"url\":\"https://www.zhihu.com/api/v4/questions/55493026\",\"relationship\":{}},\"author\":{\"id\":\"4d1c2c77bc7431c2a6006d154198e8b9\",\"url_token\":\"ji-de-yao-xing-fu\",\"name\":\"痴海\",\"avatar_url\":\"https://pic3.zhimg.com/v2-f9642b41b7729c029c6c7978c4c019e8_is.jpg\",\"avatar_url_template\":\"https://pic3.zhimg.com/v2-f9642b41b7729c029c6c7978c4c019e8_{size}.jpg\",\"is_org\":false,\"type\":\"people\",\"url\":\"https://www.zhihu.com/api/v4/people/4d1c2c77bc7431c2a6006d154198e8b9\",\"user_type\":\"people\",\"headline\":\"公众号「痴海」: 一起向上成长，成为一个厉害的人\",\"badge\":[],\"gender\":1,\"is_advertiser\":false,\"is_privacy\":false},\"url\":\"https://www.zhihu.com/api/v4/answers/873825546\",\"is_collapsed\":false,\"created_time\":1572318426,\"updated_time\":1574756054,\"extras\":\"\",\"is_copyable\":false,\"relationship\":{\"upvoted_followees\":[]}}],\"paging\":{\"is_end\":false,\"is_start\":true,\"next\":\"https://www.zhihu.com/api/v4/questions/55493026/answers?limit=5\\\\u0026offset=5\",\"previous\":\"https://www.zhihu.com/api/v4/questions/55493026/answers?limit=5\\\\u0026offset=0\",\"totals\":497}}\\n'"
     },
     "execution_count": 67,
     "metadata": {},
     "output_type": "execute_result"
    }
   ],
   "source": [
    "import requests\n",
    "src=\"https://www.zhihu.com/api/v4/questions/55493026/answers\"\n",
    "req_heads = {\n",
    "    \"User-Agent\":\"Mozilla/5.0 (Windows NT 6.1; Win64; x64) AppleWebKit/537.36 (KHTML, like Gecko) Chrome/78.0.3904.70 Safari/537.36\"\n",
    "}\n",
    "r= requests.get(src,headers=req_heads)\n",
    "response = r.text\n",
    "response"
   ]
  },
  {
   "cell_type": "code",
   "execution_count": 68,
   "metadata": {},
   "outputs": [
    {
     "name": "stdout",
     "output_type": "stream",
     "text": "{'id': 683070334, 'type': 'answer', 'answer_type': 'normal', 'question': {'type': 'question', 'id': 55493026, 'title': '你们都是怎么学 Python 的？', 'question_type': 'normal', 'created': 1486390229, 'updated_time': 1543075931, 'url': 'https://www.zhihu.com/api/v4/questions/55493026', 'relationship': {}}, 'author': {'id': '36f69162230003d316d0b8a6d8da20ba', 'url_token': 'liang-zi-wei-48', 'name': '量子位', 'avatar_url': 'https://pic4.zhimg.com/v2-ca6e7ffc10a0d10edbae635cee82d007_is.jpg', 'avatar_url_template': 'https://pic4.zhimg.com/v2-ca6e7ffc10a0d10edbae635cee82d007_{size}.jpg', 'is_org': True, 'type': 'people', 'url': 'https://www.zhihu.com/api/v4/people/36f69162230003d316d0b8a6d8da20ba', 'user_type': 'organization', 'headline': '有趣的前沿科技→_→ 公众号：QbitAI', 'badge': [{'type': 'identity', 'description': '已认证的官方帐号', 'topics': []}, {'type': 'best_answerer', 'description': '优秀回答者', 'topics': []}], 'gender': -1, 'is_advertiser': False, 'is_privacy': False}, 'url': 'https://www.zhihu.com/api/v4/answers/683070334', 'is_collapsed': False, 'created_time': 1557824412, 'updated_time': 1557824412, 'extras': '', 'is_copyable': True, 'relationship': {'upvoted_followees': []}}\n{'id': 637938925, 'type': 'answer', 'answer_type': 'normal', 'question': {'type': 'question', 'id': 55493026, 'title': '你们都是怎么学 Python 的？', 'question_type': 'normal', 'created': 1486390229, 'updated_time': 1543075931, 'url': 'https://www.zhihu.com/api/v4/questions/55493026', 'relationship': {}}, 'author': {'id': 'e8c4768eaa41e3749f7e8bc5ac6aa74b', 'url_token': 'Lanyuneet', 'name': 'Slumbers', 'avatar_url': 'https://pic4.zhimg.com/v2-314544f90f2a16f9ed161dc6ab6d00ed_is.jpg', 'avatar_url_template': 'https://pic4.zhimg.com/v2-314544f90f2a16f9ed161dc6ab6d00ed_{size}.jpg', 'is_org': False, 'type': 'people', 'url': 'https://www.zhihu.com/api/v4/people/e8c4768eaa41e3749f7e8bc5ac6aa74b', 'user_type': 'people', 'headline': '算法工程师', 'badge': [], 'gender': 0, 'is_advertiser': False, 'is_privacy': False}, 'url': 'https://www.zhihu.com/api/v4/answers/637938925', 'is_collapsed': False, 'created_time': 1554085028, 'updated_time': 1558451618, 'extras': '', 'is_copyable': True, 'relationship': {'upvoted_followees': []}}\n{'id': 163642949, 'type': 'answer', 'answer_type': 'normal', 'question': {'type': 'question', 'id': 55493026, 'title': '你们都是怎么学 Python 的？', 'question_type': 'normal', 'created': 1486390229, 'updated_time': 1543075931, 'url': 'https://www.zhihu.com/api/v4/questions/55493026', 'relationship': {}}, 'author': {'id': '788f207a6bf8f66c5bad79bd0f011065', 'url_token': 'simonlearn', 'name': '赛门喵Simon', 'avatar_url': 'https://pic2.zhimg.com/v2-03afe381dbea789c0f918d6aac15556c_is.jpg', 'avatar_url_template': 'https://pic2.zhimg.com/v2-03afe381dbea789c0f918d6aac15556c_{size}.jpg', 'is_org': False, 'type': 'people', 'url': 'https://www.zhihu.com/api/v4/people/788f207a6bf8f66c5bad79bd0f011065', 'user_type': 'people', 'headline': '英语公众号「赛门喵Simon」，不关注你会后悔。', 'badge': [{'type': 'identity', 'description': '新加坡南洋理工大学 电气工程博士', 'topics': []}], 'gender': 1, 'is_advertiser': False, 'is_privacy': False}, 'url': 'https://www.zhihu.com/api/v4/answers/163642949', 'is_collapsed': False, 'created_time': 1493707703, 'updated_time': 1493708357, 'extras': '', 'is_copyable': False, 'relationship': {'upvoted_followees': []}}\n{'id': 163537026, 'type': 'answer', 'answer_type': 'normal', 'question': {'type': 'question', 'id': 55493026, 'title': '你们都是怎么学 Python 的？', 'question_type': 'normal', 'created': 1486390229, 'updated_time': 1543075931, 'url': 'https://www.zhihu.com/api/v4/questions/55493026', 'relationship': {}}, 'author': {'id': 'eaf435b228ce0b038a4afe8203f59b49', 'url_token': 'sgai', 'name': '路人甲', 'avatar_url': 'https://pic3.zhimg.com/958a18f3216805bed269d158fb83325a_is.jpg', 'avatar_url_template': 'https://pic3.zhimg.com/958a18f3216805bed269d158fb83325a_{size}.jpg', 'is_org': False, 'type': 'people', 'url': 'https://www.zhihu.com/api/v4/people/eaf435b228ce0b038a4afe8203f59b49', 'user_type': 'people', 'headline': '微信公众号：路人甲TM，微信：thisnozy', 'badge': [], 'gender': 1, 'is_advertiser': False, 'is_privacy': False}, 'url': 'https://www.zhihu.com/api/v4/answers/163537026', 'is_collapsed': False, 'created_time': 1493693113, 'updated_time': 1555137867, 'extras': '', 'is_copyable': True, 'relationship': {'upvoted_followees': []}}\n{'id': 873825546, 'type': 'answer', 'answer_type': 'normal', 'question': {'type': 'question', 'id': 55493026, 'title': '你们都是怎么学 Python 的？', 'question_type': 'normal', 'created': 1486390229, 'updated_time': 1543075931, 'url': 'https://www.zhihu.com/api/v4/questions/55493026', 'relationship': {}}, 'author': {'id': '4d1c2c77bc7431c2a6006d154198e8b9', 'url_token': 'ji-de-yao-xing-fu', 'name': '痴海', 'avatar_url': 'https://pic3.zhimg.com/v2-f9642b41b7729c029c6c7978c4c019e8_is.jpg', 'avatar_url_template': 'https://pic3.zhimg.com/v2-f9642b41b7729c029c6c7978c4c019e8_{size}.jpg', 'is_org': False, 'type': 'people', 'url': 'https://www.zhihu.com/api/v4/people/4d1c2c77bc7431c2a6006d154198e8b9', 'user_type': 'people', 'headline': '公众号「痴海」: 一起向上成长，成为一个厉害的人', 'badge': [], 'gender': 1, 'is_advertiser': False, 'is_privacy': False}, 'url': 'https://www.zhihu.com/api/v4/answers/873825546', 'is_collapsed': False, 'created_time': 1572318426, 'updated_time': 1574756054, 'extras': '', 'is_copyable': False, 'relationship': {'upvoted_followees': []}}\n"
    }
   ],
   "source": [
    "import json\n",
    "getlist = json.loads(response)\n",
    "\n",
    "for list_ in getlist[\"data\"]:\n",
    "    print(list_)"
   ]
  },
  {
   "cell_type": "code",
   "execution_count": 69,
   "metadata": {},
   "outputs": [
    {
     "data": {
      "text/html": "<div>\n<style scoped>\n    .dataframe tbody tr th:only-of-type {\n        vertical-align: middle;\n    }\n\n    .dataframe tbody tr th {\n        vertical-align: top;\n    }\n\n    .dataframe thead th {\n        text-align: right;\n    }\n</style>\n<table border=\"1\" class=\"dataframe\">\n  <thead>\n    <tr style=\"text-align: right;\">\n      <th></th>\n      <th>id</th>\n      <th>type</th>\n      <th>answer_type</th>\n      <th>question</th>\n      <th>author</th>\n      <th>url</th>\n      <th>is_collapsed</th>\n      <th>created_time</th>\n      <th>updated_time</th>\n      <th>extras</th>\n      <th>is_copyable</th>\n      <th>relationship</th>\n    </tr>\n  </thead>\n  <tbody>\n    <tr>\n      <td>0</td>\n      <td>683070334</td>\n      <td>answer</td>\n      <td>normal</td>\n      <td>{'type': 'question', 'id': 55493026, 'title': ...</td>\n      <td>{'id': '36f69162230003d316d0b8a6d8da20ba', 'ur...</td>\n      <td>https://www.zhihu.com/api/v4/answers/683070334</td>\n      <td>False</td>\n      <td>1557824412</td>\n      <td>1557824412</td>\n      <td></td>\n      <td>True</td>\n      <td>{'upvoted_followees': []}</td>\n    </tr>\n    <tr>\n      <td>1</td>\n      <td>637938925</td>\n      <td>answer</td>\n      <td>normal</td>\n      <td>{'type': 'question', 'id': 55493026, 'title': ...</td>\n      <td>{'id': 'e8c4768eaa41e3749f7e8bc5ac6aa74b', 'ur...</td>\n      <td>https://www.zhihu.com/api/v4/answers/637938925</td>\n      <td>False</td>\n      <td>1554085028</td>\n      <td>1558451618</td>\n      <td></td>\n      <td>True</td>\n      <td>{'upvoted_followees': []}</td>\n    </tr>\n    <tr>\n      <td>2</td>\n      <td>163642949</td>\n      <td>answer</td>\n      <td>normal</td>\n      <td>{'type': 'question', 'id': 55493026, 'title': ...</td>\n      <td>{'id': '788f207a6bf8f66c5bad79bd0f011065', 'ur...</td>\n      <td>https://www.zhihu.com/api/v4/answers/163642949</td>\n      <td>False</td>\n      <td>1493707703</td>\n      <td>1493708357</td>\n      <td></td>\n      <td>False</td>\n      <td>{'upvoted_followees': []}</td>\n    </tr>\n    <tr>\n      <td>3</td>\n      <td>163537026</td>\n      <td>answer</td>\n      <td>normal</td>\n      <td>{'type': 'question', 'id': 55493026, 'title': ...</td>\n      <td>{'id': 'eaf435b228ce0b038a4afe8203f59b49', 'ur...</td>\n      <td>https://www.zhihu.com/api/v4/answers/163537026</td>\n      <td>False</td>\n      <td>1493693113</td>\n      <td>1555137867</td>\n      <td></td>\n      <td>True</td>\n      <td>{'upvoted_followees': []}</td>\n    </tr>\n    <tr>\n      <td>4</td>\n      <td>873825546</td>\n      <td>answer</td>\n      <td>normal</td>\n      <td>{'type': 'question', 'id': 55493026, 'title': ...</td>\n      <td>{'id': '4d1c2c77bc7431c2a6006d154198e8b9', 'ur...</td>\n      <td>https://www.zhihu.com/api/v4/answers/873825546</td>\n      <td>False</td>\n      <td>1572318426</td>\n      <td>1574756054</td>\n      <td></td>\n      <td>False</td>\n      <td>{'upvoted_followees': []}</td>\n    </tr>\n  </tbody>\n</table>\n</div>",
      "text/plain": "          id    type answer_type  \\\n0  683070334  answer      normal   \n1  637938925  answer      normal   \n2  163642949  answer      normal   \n3  163537026  answer      normal   \n4  873825546  answer      normal   \n\n                                            question  \\\n0  {'type': 'question', 'id': 55493026, 'title': ...   \n1  {'type': 'question', 'id': 55493026, 'title': ...   \n2  {'type': 'question', 'id': 55493026, 'title': ...   \n3  {'type': 'question', 'id': 55493026, 'title': ...   \n4  {'type': 'question', 'id': 55493026, 'title': ...   \n\n                                              author  \\\n0  {'id': '36f69162230003d316d0b8a6d8da20ba', 'ur...   \n1  {'id': 'e8c4768eaa41e3749f7e8bc5ac6aa74b', 'ur...   \n2  {'id': '788f207a6bf8f66c5bad79bd0f011065', 'ur...   \n3  {'id': 'eaf435b228ce0b038a4afe8203f59b49', 'ur...   \n4  {'id': '4d1c2c77bc7431c2a6006d154198e8b9', 'ur...   \n\n                                              url  is_collapsed  created_time  \\\n0  https://www.zhihu.com/api/v4/answers/683070334         False    1557824412   \n1  https://www.zhihu.com/api/v4/answers/637938925         False    1554085028   \n2  https://www.zhihu.com/api/v4/answers/163642949         False    1493707703   \n3  https://www.zhihu.com/api/v4/answers/163537026         False    1493693113   \n4  https://www.zhihu.com/api/v4/answers/873825546         False    1572318426   \n\n   updated_time extras  is_copyable               relationship  \n0    1557824412                True  {'upvoted_followees': []}  \n1    1558451618                True  {'upvoted_followees': []}  \n2    1493708357               False  {'upvoted_followees': []}  \n3    1555137867                True  {'upvoted_followees': []}  \n4    1574756054               False  {'upvoted_followees': []}  "
     },
     "execution_count": 69,
     "metadata": {},
     "output_type": "execute_result"
    }
   ],
   "source": [
    "import pandas as pd\n",
    "df = pd.DataFrame.from_dict(getlist['data'])\n",
    "df"
   ]
  },
  {
   "cell_type": "code",
   "execution_count": 70,
   "metadata": {},
   "outputs": [
    {
     "data": {
      "text/html": "<div>\n<style scoped>\n    .dataframe tbody tr th:only-of-type {\n        vertical-align: middle;\n    }\n\n    .dataframe tbody tr th {\n        vertical-align: top;\n    }\n\n    .dataframe thead th {\n        text-align: right;\n    }\n</style>\n<table border=\"1\" class=\"dataframe\">\n  <thead>\n    <tr style=\"text-align: right;\">\n      <th></th>\n      <th>type</th>\n      <th>id</th>\n      <th>title</th>\n      <th>question_type</th>\n      <th>created</th>\n      <th>updated_time</th>\n      <th>url</th>\n      <th>relationship</th>\n    </tr>\n  </thead>\n  <tbody>\n    <tr>\n      <td>0</td>\n      <td>question</td>\n      <td>55493026</td>\n      <td>你们都是怎么学 Python 的？</td>\n      <td>normal</td>\n      <td>1486390229</td>\n      <td>1543075931</td>\n      <td>https://www.zhihu.com/api/v4/questions/55493026</td>\n      <td>{}</td>\n    </tr>\n    <tr>\n      <td>1</td>\n      <td>question</td>\n      <td>55493026</td>\n      <td>你们都是怎么学 Python 的？</td>\n      <td>normal</td>\n      <td>1486390229</td>\n      <td>1543075931</td>\n      <td>https://www.zhihu.com/api/v4/questions/55493026</td>\n      <td>{}</td>\n    </tr>\n    <tr>\n      <td>2</td>\n      <td>question</td>\n      <td>55493026</td>\n      <td>你们都是怎么学 Python 的？</td>\n      <td>normal</td>\n      <td>1486390229</td>\n      <td>1543075931</td>\n      <td>https://www.zhihu.com/api/v4/questions/55493026</td>\n      <td>{}</td>\n    </tr>\n    <tr>\n      <td>3</td>\n      <td>question</td>\n      <td>55493026</td>\n      <td>你们都是怎么学 Python 的？</td>\n      <td>normal</td>\n      <td>1486390229</td>\n      <td>1543075931</td>\n      <td>https://www.zhihu.com/api/v4/questions/55493026</td>\n      <td>{}</td>\n    </tr>\n    <tr>\n      <td>4</td>\n      <td>question</td>\n      <td>55493026</td>\n      <td>你们都是怎么学 Python 的？</td>\n      <td>normal</td>\n      <td>1486390229</td>\n      <td>1543075931</td>\n      <td>https://www.zhihu.com/api/v4/questions/55493026</td>\n      <td>{}</td>\n    </tr>\n  </tbody>\n</table>\n</div>",
      "text/plain": "       type        id              title question_type     created  \\\n0  question  55493026  你们都是怎么学 Python 的？        normal  1486390229   \n1  question  55493026  你们都是怎么学 Python 的？        normal  1486390229   \n2  question  55493026  你们都是怎么学 Python 的？        normal  1486390229   \n3  question  55493026  你们都是怎么学 Python 的？        normal  1486390229   \n4  question  55493026  你们都是怎么学 Python 的？        normal  1486390229   \n\n   updated_time                                              url relationship  \n0    1543075931  https://www.zhihu.com/api/v4/questions/55493026           {}  \n1    1543075931  https://www.zhihu.com/api/v4/questions/55493026           {}  \n2    1543075931  https://www.zhihu.com/api/v4/questions/55493026           {}  \n3    1543075931  https://www.zhihu.com/api/v4/questions/55493026           {}  \n4    1543075931  https://www.zhihu.com/api/v4/questions/55493026           {}  "
     },
     "execution_count": 70,
     "metadata": {},
     "output_type": "execute_result"
    }
   ],
   "source": [
    "\n",
    "df_question = pd.DataFrame.from_dict(df['question'].values.tolist())\n",
    "df_question"
   ]
  },
  {
   "cell_type": "code",
   "execution_count": 71,
   "metadata": {},
   "outputs": [
    {
     "data": {
      "text/html": "<div>\n<style scoped>\n    .dataframe tbody tr th:only-of-type {\n        vertical-align: middle;\n    }\n\n    .dataframe tbody tr th {\n        vertical-align: top;\n    }\n\n    .dataframe thead th {\n        text-align: right;\n    }\n</style>\n<table border=\"1\" class=\"dataframe\">\n  <thead>\n    <tr style=\"text-align: right;\">\n      <th></th>\n      <th>0</th>\n    </tr>\n  </thead>\n  <tbody>\n    <tr>\n      <td>0</td>\n      <td>1486390229</td>\n    </tr>\n    <tr>\n      <td>1</td>\n      <td>1486390229</td>\n    </tr>\n    <tr>\n      <td>2</td>\n      <td>1486390229</td>\n    </tr>\n    <tr>\n      <td>3</td>\n      <td>1486390229</td>\n    </tr>\n    <tr>\n      <td>4</td>\n      <td>1486390229</td>\n    </tr>\n  </tbody>\n</table>\n</div>",
      "text/plain": "            0\n0  1486390229\n1  1486390229\n2  1486390229\n3  1486390229\n4  1486390229"
     },
     "execution_count": 71,
     "metadata": {},
     "output_type": "execute_result"
    }
   ],
   "source": [
    "created = pd.DataFrame.from_dict(df_question['created'].values.tolist())\n",
    "created"
   ]
  },
  {
   "cell_type": "code",
   "execution_count": 72,
   "metadata": {},
   "outputs": [
    {
     "data": {
      "text/html": "<div>\n<style scoped>\n    .dataframe tbody tr th:only-of-type {\n        vertical-align: middle;\n    }\n\n    .dataframe tbody tr th {\n        vertical-align: top;\n    }\n\n    .dataframe thead th {\n        text-align: right;\n    }\n</style>\n<table border=\"1\" class=\"dataframe\">\n  <thead>\n    <tr style=\"text-align: right;\">\n      <th></th>\n      <th>0</th>\n    </tr>\n  </thead>\n  <tbody>\n    <tr>\n      <td>0</td>\n      <td>1557824412</td>\n    </tr>\n    <tr>\n      <td>1</td>\n      <td>1554085028</td>\n    </tr>\n    <tr>\n      <td>2</td>\n      <td>1493707703</td>\n    </tr>\n    <tr>\n      <td>3</td>\n      <td>1493693113</td>\n    </tr>\n    <tr>\n      <td>4</td>\n      <td>1572318426</td>\n    </tr>\n  </tbody>\n</table>\n</div>",
      "text/plain": "            0\n0  1557824412\n1  1554085028\n2  1493707703\n3  1493693113\n4  1572318426"
     },
     "execution_count": 72,
     "metadata": {},
     "output_type": "execute_result"
    }
   ],
   "source": [
    "created_time = pd.DataFrame.from_dict(df['created_time'].values.tolist())\n",
    "created_time"
   ]
  },
  {
   "cell_type": "code",
   "execution_count": 73,
   "metadata": {},
   "outputs": [
    {
     "name": "stdout",
     "output_type": "stream",
     "text": "取出知乎問題發問時間:2017-02-06 14:10:29\n第一筆回答的時間:2019-05-14 09:00:12\n最後一筆回答的時間:2019-10-29 03:07:06\n"
    }
   ],
   "source": [
    "from datetime import datetime\n",
    "c_t = datetime.utcfromtimestamp(df_question.iloc[0]['created'])\n",
    "\n",
    "print(\"取出知乎問題發問時間:{}\\n第一筆回答的時間:{}\\n最後一筆回答的時間:{}\" \\\n",
    "      .format(datetime.utcfromtimestamp(df_question.iloc[0]['created']), \\\n",
    "              datetime.utcfromtimestamp(created_time.iloc[0]), \\\n",
    "              datetime.utcfromtimestamp(created_time.iloc[-1])\n",
    "              )\n",
    "        )             "
   ]
  },
  {
   "cell_type": "code",
   "metadata": {},
   "outputs": [],
   "source": []
  }
 ]
}