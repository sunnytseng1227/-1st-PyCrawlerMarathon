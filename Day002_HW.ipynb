{
 "nbformat": 4,
 "nbformat_minor": 2,
 "metadata": {
  "language_info": {
   "name": "python",
   "codemirror_mode": {
    "name": "ipython",
    "version": 3
   },
   "version": "3.7.4"
  },
  "orig_nbformat": 2,
  "file_extension": ".py",
  "mimetype": "text/x-python",
  "name": "python",
  "npconvert_exporter": "python",
  "pygments_lexer": "ipython3",
  "version": 3
 },
 "cells": [
  {
   "cell_type": "code",
   "execution_count": 4,
   "metadata": {},
   "outputs": [],
   "source": [
    "# 比較一下範例檔案中的「File I/O」與「CSV Reader」讀出來的內容有什麼差異\n",
    "# 根據範例檔案的結果：\n",
    "# 1. 取出班次一的每一個時間，印出來就好\n",
    "# 2. 將班次一的每一個時間用一個變數保存\n",
    "# 3. 將所有班次和其每一個時間用一個變數保存\n",
    "# (Hint： 2&3 要想一下用什麼的資料型態做整理比較適合)"
   ]
  },
  {
   "cell_type": "code",
   "execution_count": 8,
   "metadata": {},
   "outputs": [],
   "source": [
    "import urllib.request as req\n",
    "import urllib.error as urlerror\n",
    "import os,sys,csv\n",
    "TargetPath = \"http://opendata.hccg.gov.tw/dataset/432257df-491f-4875-8b56-dd814aee5d7b/resource/de014c8b-9b75-4152-9fc6-f0d499cefbe4/download/20150305140446074.csv\"\n",
    "SaveFile=\"example.csv\"\n",
    "SaveFilePath =\"./Data\"\n",
    "try:\n",
    "    req.urlopen(TargetPath)    \n",
    "    if not os.path.isdir(SaveFilePath):\n",
    "        os.mkdir(SaveFilePath)\n",
    "    req.urlretrieve(TargetPath,SaveFilePath+\"/\"+SaveFile)\n",
    "except urlerror.HTTPError  as e:\n",
    "    print(\"\\n####\"+e.reason+\"\\n\"+TargetPath+\"  \"+e.reason+\"\\n########\")"
   ]
  },
  {
   "cell_type": "code",
   "execution_count": null,
   "metadata": {},
   "outputs": [],
   "source": []
  }
 ]
}