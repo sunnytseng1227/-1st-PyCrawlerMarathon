{
 "nbformat": 4,
 "nbformat_minor": 2,
 "metadata": {
  "language_info": {
   "name": "python",
   "codemirror_mode": {
    "name": "ipython",
    "version": 3
   },
   "version": "3.7.4"
  },
  "orig_nbformat": 2,
  "file_extension": ".py",
  "mimetype": "text/x-python",
  "name": "python",
  "npconvert_exporter": "python",
  "pygments_lexer": "ipython3",
  "version": 3
 },
 "cells": [
  {
   "cell_type": "code",
   "execution_count": 40,
   "metadata": {},
   "outputs": [],
   "source": [
    "import requests \n",
    "url = \"https://github.com/timeline.json\"\n",
    "req_heads = {\n",
    "    \"User-Agent\":\"Mozilla/5.0 (Windows NT 6.1; Win64; x64) AppleWebKit/537.36 (KHTML, like Gecko) Chrome/78.0.3904.70 Safari/537.36\"\n",
    "}\n",
    "r = requests.get(url,headers=req_heads)\n",
    "r.encoding = 'utf-8'\n",
    "response = r.text\n"
   ]
  },
  {
   "cell_type": "code",
   "execution_count": 18,
   "metadata": {},
   "outputs": [
    {
     "name": "stdout",
     "output_type": "stream",
     "text": "{\"message\":\"Hello there, wayfaring stranger. If you’re reading this then you probably didn’t see our blog post a couple of years back announcing that this API would go away: http://git.io/17AROg Fear not, you should be able to get what you need from the shiny new Events API instead.\",\"documentation_url\":\"https://developer.github.com/v3/activity/events/#list-public-events\"}\n"
    }
   ],
   "source": [
    "print(response)\n"
   ]
  },
  {
   "cell_type": "code",
   "execution_count": 19,
   "metadata": {},
   "outputs": [
    {
     "ename": "TypeError",
     "evalue": "string indices must be integers",
     "output_type": "error",
     "traceback": [
      "\u001b[1;31m---------------------------------------------------------------------------\u001b[0m",
      "\u001b[1;31mTypeError\u001b[0m                                 Traceback (most recent call last)",
      "\u001b[1;32m<ipython-input-19-613318a8a5e0>\u001b[0m in \u001b[0;36m<module>\u001b[1;34m\u001b[0m\n\u001b[1;32m----> 1\u001b[1;33m \u001b[0mresponse\u001b[0m\u001b[1;33m[\u001b[0m\u001b[1;34m'message'\u001b[0m\u001b[1;33m]\u001b[0m\u001b[1;33m\u001b[0m\u001b[1;33m\u001b[0m\u001b[0m\n\u001b[0m",
      "\u001b[1;31mTypeError\u001b[0m: string indices must be integers"
     ]
    }
   ],
   "source": [
    "response['message']"
   ]
  },
  {
   "cell_type": "code",
   "execution_count": 20,
   "metadata": {},
   "outputs": [
    {
     "name": "stdout",
     "output_type": "stream",
     "text": "<class 'str'>\n"
    }
   ],
   "source": [
    "print(type(response))"
   ]
  },
  {
   "cell_type": "code",
   "execution_count": 21,
   "metadata": {},
   "outputs": [
    {
     "name": "stdout",
     "output_type": "stream",
     "text": "{\"message\":\"Hello there, wayfaring stranger. If you’re reading this then you probably didn’t see our\n"
    }
   ],
   "source": [
    "print(response[:100])"
   ]
  },
  {
   "cell_type": "code",
   "execution_count": 23,
   "metadata": {},
   "outputs": [
    {
     "name": "stdout",
     "output_type": "stream",
     "text": "<class 'dict'>\n"
    }
   ],
   "source": [
    "import json\n",
    "response = json.loads(response)\n",
    "\n",
    "print(type(response))\n"
   ]
  },
  {
   "cell_type": "code",
   "execution_count": 24,
   "metadata": {},
   "outputs": [
    {
     "name": "stdout",
     "output_type": "stream",
     "text": "Hello there, wayfaring stranger. If you’re reading this then you probably didn’t see our blog post a couple of years back announcing that this API would go away: http://git.io/17AROg Fear not, you should be able to get what you need from the shiny new Events API instead.\n"
    }
   ],
   "source": [
    "print(response['message'])"
   ]
  },
  {
   "cell_type": "code",
   "execution_count": 25,
   "metadata": {},
   "outputs": [
    {
     "name": "stdout",
     "output_type": "stream",
     "text": "\n<html><head><title>The Dormouse's story</title></head>\n<body>\n<p class=\"title\"><b>The Dormouse's story</b></p>\n<p class=\"story\">Once upon a time there were three little sisters; and their names were\n<a href=\"http://example.com/elsie\" class=\"sister\" id=\"link1\">Elsie</a>,\n<a href=\"http://example.com/lacie\" class=\"sister\" id=\"link2\">Lacie</a> and\n<a href=\"http://example.com/tillie\" class=\"sister\" id=\"link3\">Tillie</a>;\nand they lived at the bottom of a well.</p>\n<p class=\"story\">...</p>\n</body>\n</html>\n\n<class 'str'>\n"
    }
   ],
   "source": [
    "html_doc = \"\"\"\n",
    "<html><head><title>The Dormouse's story</title></head>\n",
    "<body>\n",
    "<p class=\"title\"><b>The Dormouse's story</b></p>\n",
    "<p class=\"story\">Once upon a time there were three little sisters; and their names were\n",
    "<a href=\"http://example.com/elsie\" class=\"sister\" id=\"link1\">Elsie</a>,\n",
    "<a href=\"http://example.com/lacie\" class=\"sister\" id=\"link2\">Lacie</a> and\n",
    "<a href=\"http://example.com/tillie\" class=\"sister\" id=\"link3\">Tillie</a>;\n",
    "and they lived at the bottom of a well.</p>\n",
    "<p class=\"story\">...</p>\n",
    "</body>\n",
    "</html>\n",
    "\"\"\"\n",
    "\n",
    "print(html_doc)\n",
    "print(type(html_doc))"
   ]
  },
  {
   "cell_type": "code",
   "execution_count": 29,
   "metadata": {},
   "outputs": [
    {
     "name": "stdout",
     "output_type": "stream",
     "text": "<html><head><title>The Dormouse's story</title></head>\n<body>\n<p class=\"title\"><b>The Dormouse's story</b></p>\n<p class=\"story\">Once upon a time there were three little sisters; and their names were\n<a class=\"sister\" href=\"http://example.com/elsie\" id=\"link1\">Elsie</a>,\n<a class=\"sister\" href=\"http://example.com/lacie\" id=\"link2\">Lacie</a> and\n<a class=\"sister\" href=\"http://example.com/tillie\" id=\"link3\">Tillie</a>;\nand they lived at the bottom of a well.</p>\n<p class=\"story\">...</p>\n\n\n</body></html>\n<class 'bs4.BeautifulSoup'>\n"
    }
   ],
   "source": [
    "from bs4 import BeautifulSoup\n",
    "\n",
    "soup = BeautifulSoup(html_doc, \"html5lib\")\n",
    "print(soup)\n",
    "print(type(soup))"
   ]
  },
  {
   "cell_type": "code",
   "execution_count": 32,
   "metadata": {},
   "outputs": [
    {
     "name": "stdout",
     "output_type": "stream",
     "text": "<!DOCTYPE html><html lang=\"zh-Hant-TW\"><head prefix=\"og: http://ogp.me/ns#\" itemscope=\"\" itemType=\"https://schema.org/WebSite\"><title data-react-helmet=\"true\">Dcard</title><meta data-react-helmet=\"true\" property=\"og:image\" content=\"https://www.dcard.tw/build/landing-c9e7b8fb.png\"/><meta data-react-helmet=\"true\" property=\"og:image:secure_url\" content=\"https://www.dcard.tw/build/landing-c9e7b8fb.png\"/><meta data-react-helmet=\"true\" charSet=\"utf-8\"/><meta data-react-helmet=\"true\" http-equiv=\"X-UA-Compatible\" content=\"IE=edge\"/><meta data-react-helmet=\"true\" name=\"application-name\" content=\"Dcard\"/><meta data-react-helmet=\"true\" name=\"apple-itunes-app\" content=\"app-id=951353454\"/><meta data-react-helmet=\"true\" name=\"theme-color\" content=\"#006aa6\"/><meta data-react-helmet=\"true\" name=\"mobile-web-app-capable\" content=\"yes\"/><meta data-react-helmet=\"true\" name=\"apple-mobile-web-app-capable\" content=\"yes\"/><meta data-react-helmet=\"true\" property=\"fb:app_id\" content=\"211628828926493\"/><meta dat\n"
    }
   ],
   "source": [
    "import requests \n",
    "url = \"https://www.dcard.tw/f\"\n",
    "req_heads = {\n",
    "    \"User-Agent\":\"Mozilla/5.0 (Windows NT 6.1; Win64; x64) AppleWebKit/537.36 (KHTML, like Gecko) Chrome/78.0.3904.70 Safari/537.36\"\n",
    "}\n",
    "r = requests.get(url,req_heads)\n",
    "r.encoding = 'utf-8'\n",
    "print(r.text[0:1000])"
   ]
  },
  {
   "cell_type": "code",
   "execution_count": 33,
   "metadata": {},
   "outputs": [
    {
     "name": "stdout",
     "output_type": "stream",
     "text": "Request 取回之後該怎麼取出資料，資料型態是什麼？ <class 'str'>\n"
    }
   ],
   "source": [
    "print(\"Request 取回之後該怎麼取出資料，資料型態是什麼？\", type(r.text))"
   ]
  },
  {
   "cell_type": "code",
   "execution_count": 38,
   "metadata": {},
   "outputs": [
    {
     "name": "stdout",
     "output_type": "stream",
     "text": "02F\\u002Fi.imgur.com\\u002FML0i31ol.jpg\",\"type\":\"image\\u002Fthumbnail\",\"tags\":[\"ANNOTATED\"],\"createdAt\":\"2019-12-06T09:44:18.357Z\",\"updatedAt\":\"2019-12-06T09:44:18.357Z\"},{\"id\":\"fda023e3-3e76-499f-9429-367d1c670715\",\"url\":\"http:\\u002F\\u002Fi.imgur.com\\u002FML0i31o.jpg\",\"normalizedUrl\":\"https:\\u002F\\u002Fimgur.com\\u002FML0i31o\",\"thumbnail\":\"https:\\u002F\\u002Fi.imgur.com\\u002FML0i31ol.jpg\",\"type\":\"image\\u002Fimgur\",\"tags\":[\"ANNOTATED\"],\"createdAt\":\"2019-12-06T09:44:18.357Z\",\"updatedAt\":\"2019-12-06T09:44:18.357Z\"},{\"id\":\"45bab00c-8a6d-4bd9-b2b3-112b0d86e06b\",\"url\":\"http:\\u002F\\u002Fi.imgur.com\\u002F6LRndbm.jpg\",\"normalizedUrl\":\"https:\\u002F\\u002Fimgur.com\\u002F6LRndbm\",\"thumbnail\":\"https:\\u002F\\u002Fi.imgur.com\\u002F6LRndbml.jpg\",\"type\":\"image\\u002Fimgur\",\"tags\":[\"ANNOTATED\"],\"createdAt\":\"2019-12-06T09:44:18.357Z\",\"updatedAt\":\"2019-12-06T09:44:18.357Z\"},{\"id\":\"a1278351-d76f-432d-8bc5-27490c7f9a37\",\"url\":\"http:\\u002F\\u002Fi.imgur.com\\u002FR02OUGF.jpg\",\"normalizedUrl\":\"https:\\u002F\\u002Fimgur.com\\u002FR02OUGF\",\"thumbnail\":\"https:\\u002F\\u002Fi.imgur.com\\u002FR02OUGFl.jpg\",\"type\":\"image\\u002Fimgur\",\"tags\":[\"ANNOTATED\"],\"createdAt\":\"2019-12-06T09:44:18.357Z\",\"updatedAt\":\"2019-12-06T09:44:18.357Z\"}],\"hidden\":false,\"layout\":\"classic\",\"reactions\":[{\"id\":\"286f599c-f86a-4932-82f0-f5a06f1eca03\",\"count\":1548},{\"id\":\"011ead16-9b83-4729-9fde-c588920c6c2d\",\"count\":5}],\"forumName\":\"有趣\",\"replyTitle\":null,\"updatedAt\":\"2019-12-06T09:44:18.357Z\",\"forumAlias\":\"funny\",\"commentCount\":42,\"department\":\"ec_firemaker\",\"withNickname\":true,\"school\":\"好物縱火販\",\"title\":\"好物研究室年終感謝祭🎉 乾爹乾媽我愛你❤️ヾ(´ε`ヾ)\",\"likeCount\":1553,\"pinned\":false,\"tags\":[],\"postAvatar\":\"\",\"id\":232635767,\"createdAt\":\"2019-12-06T07:00:21.262Z\",\"globalPinned\":null,\"forumId\":\"a1aaa6e6-2594-4968-b7dc-e1b14bea96f4\",\"withImages\":true,\"withVideos\":false,\"anonymousDepartment\":false},{\"customStyle\":null,\"excerpt\":\"*更，大家真的是想像力太豐富了，不過不會有後續啦哈哈哈哈哈，因為真的太不好意思了所以下禮拜去台北會順路把漫畫還回去，原本心中如意算盤是跟學妹十本十本借借個七遍，但既然漫畫在台北當然就不可能一直借啦哈哈\",\"anonymousSchool\":false,\"gender\":\"F\",\"topics\":[\"傻眼\",\"糗事\",\"無言\"],\"media\":[{\"url\":\"https:\\u002F\\u002Fi.imgur.com\\u002FzbQaU9M.jpg\"},{\"url\":\"https:\\u002F\\u002Fi.imgur.com\\u002FvXJDSxX.jpg\"}],\"replyId\":null,\"reportReasonText\":\"\",\"meta\":{\"layout\":\"classic\"},\"isSuspiciousAccount\":false,\"mediaMeta\":[{\"id\":\"d2af9773-63f6-478b-aaff-d5d7d2534065\",\"url\":\"https:\\u002F\\u002Fi.imgur.com\\u002FzbQaU9Ml.jpg\",\"normalizedUrl\":\"https:\\u002F\\u002Fi.imgur.com\\u002FzbQaU9Ml.jpg\",\"thumbnail\":\"https:\\u002F\\u002Fi.imgur.com\\u002FzbQaU9Ml.jpg\",\"type\":\"image\\u002Fthumbnail\",\"tags\":[\"ANNOTATED\"],\"createdAt\":\"2019-12-06T06:01:22.772Z\",\"updatedAt\":\"2019-12-07T11:31:45.395Z\"},{\"id\":\"d2af9773-63f6-478b-aaff-d5d7d2534065\",\"url\":\"https:\\u002F\\u002Fi.imgur.com\\u002FzbQaU9M.jpg\",\"normalizedUrl\":\"https:\\u002F\\u002Fimgur.com\\u002FzbQaU9M\",\"thumbnail\":\"https:\\u002F\\u002Fi.imgur.com\\u002FzbQaU9Ml.jpg\",\"type\":\"image\\u002Fimgur\",\"tags\":[\"ANNOTATED\"],\"createdAt\":\"2019-12-06T06:01:22.772Z\",\"updatedAt\":\"2019-12-07T11:31:45.395Z\"},{\"id\":\"aa549697-31c2-4a3f-a91a-3c52501fc704\",\"url\":\"https:\\u002F\\u002Fi.imgur.com\\u002FvXJDSxX.jpg\",\"normalizedUrl\":\"https:\\u002F\\u002Fimgur.com\\u002FvXJDSxX\",\"thumbnail\":\"https:\\u002F\\u002Fi.imgur.com\\u002FvXJDSxXl.jpg\",\"type\":\"image\\u002Fimgur\",\"tags\":[\"ANNOTATED\"],\"createdAt\":\"2019-12-06T06:01:22.772Z\",\"updatedAt\":\"2019-12-07T11:31:45.395Z\"}],\"hidden\":false,\"layout\":\"classic\",\"reactions\":[{\"id\":\"286f599c-f86a-4932-82f0-f5a06f1eca03\",\"count\":1405},{\"id\":\"e8e6bc5d-41b0-4129-b134-97507523d7ff\",\"count\":138},{\"id\":\"4b018f48-e184-445f-adf1-fc8e04ba09b9\",\"count\":2}],\"forumName\":\"有趣\",\"replyTitle\":null,\"updatedAt\":\"2019-12-07T11:31:45.395Z\",\"forumAlias\":\"funny\",\"commentCount\":40,\"withNickname\":false,\"school\":\"中原大學\",\"title\":\"跟學妹借漫畫結果……\",\"likeCount\":1545,\"pinned\":false,\"tags\":[],\"postAvatar\":\"\",\"id\":232635444,\"createdAt\":\"2019-12-06T06:01:22.772Z\",\"globalPinned\":null,\"forumId\":\"a1aaa6e6-2594-4968-b7dc-e1b14bea96f4\",\"withImages\":true,\"withVideos\":false,\"anonymousDepartment\":true},{\"customStyle\":null,\"excerpt\":\"這個新聞，所以是說被老婆檢舉不爽就，退老婆ig追蹤 跟其他女生親熱 臉書狀態單身，你是國中生嗎？不是謝的粉絲啦，只是覺得他平常就一副愛老婆的形象，結果全世界傷他老婆最重就是他自己啦 ㄏㄏ\",\"anonymousSchool\":false,\"gender\":\"M\",\"topics\":[\"謝和弦\",\"吸大麻\",\"被逮\",\"哈們\"],\"media\":[],\"replyId\":232638387,\"reportReasonText\":\"\",\"meta\":{\"layout\":\"classic\"},\"isSuspiciousAccount\":false,\"mediaMeta\":[],\"hidden\":false,\"layout\":\"classic\",\"reactions\":[{\"id\":\"286f599c-f86a-4932-82f0-f5a06f1eca03\",\"count\":1425},{\"id\":\"aa0d425f-d530-4478-9a77-fe3aedc79eea\",\"count\":71},{\"id\":\"514c2569-fd53-4d9d-a415-bf0f88e7329f\",\"count\":11},{\"id\":\"4b018f48-e184-445f-adf1-fc8e04ba09b9\",\"count\":5},{\"id\":\"e8e6bc5d-41b0-4129-b134-97507523d7ff\",\"count\":3},{\"id\":\"011ead16-9b83-4729-9fde-c588920c6c2d\",\"count\":1}],\"forumName\":\"追星\",\"replyTitle\":\"(微更)謝和弦遇到麻煩之後有....\",\"updatedAt\":\"2019-12-06T17:09:37.913Z\",\"forumAlias\":\"entertainer\",\"commentCount\":84,\"withNickname\":false,\"school\":\"國立政治大學\",\"title\":\"謝和弦是在哈囉？？\",\"likeCount\":1516,\"pinned\":false,\"tags\":[\"HIDE_THUMBNAIL\"],\"postAvatar\":\"\",\"id\":232639378,\"createdAt\":\"2019-12-06T17:09:37.913Z\",\"globalPinned\":null,\"forumId\":\"14f573f5-3f02-4821-8e18-f561d7b7db91\",\"withImages\":false,\"withVideos\":false,\"anonymousDepartment\":true},{\"customStyle\":null,\"excerpt\":\"男孩有一個女友，她長得普普通通，不像有的女孩很會打扮，會彈琴，會作菜，但還算溫柔體貼。她會每晚幫他買好晚餐送到他家，因為她說她順路。她會在每次吵架之後先撒撒嬌，求他原諒她的任性。她會在他睡前打一通電話\",\"anonymousSchool\":true,\"gender\":\"F\",\"topics\":[\"被愛\",\"愛\",\"感情\",\"價值觀\",\"遠距離\"],\"media\":[],\"replyId\":null,\"reportReasonText\":\"\",\"meta\":{\"layout\":\"classic\"},\"isSuspiciousAccount\":false,\"mediaMeta\":[],\"hidden\":false,\"layout\":\"classic\",\"reactions\":[{\"id\":\"286f599c-f86a-4932-82f0-f5a06f1eca03\",\"count\":1325},{\"id\":\"514c2569-fd53-4d9d-a415-bf0f88e7329f\",\"count\":34},{\"id\":\"4b018f48-e184-445f-adf1-fc8e04ba09b9\",\"count\":2},{\"id\":\"011ead16-9b83-4729-9fde-c588920c6c2d\",\"count\":1},{\"id\":\"aa0d425f-d530-4478-9a77-fe3aedc79eea\",\"count\":1}],\"forumName\":\"感情\",\"replyTitle\":null,\"updatedAt\":\"2019-12-06T16:52:17.079Z\",\"forumAlias\":\"relationship\",\"commentCount\":16,\"withNickname\":false,\"title\":\"「愛」與「被愛」的差別，你知道嗎？\",\"likeCount\":1363,\"pinned\":false,\"tags\":[\"HIDE_THUMBNAIL\"],\"postAvatar\":\"\",\"id\":232639264,\"createdAt\":\"2019-12-06T16:52:17.079Z\",\"globalPinned\":null,\"forumId\":\"42851318-b9e2-4a75-8a05-9fe180becefe\",\"withImages\":false,\"withVideos\":false,\"anonymousDepartment\":true},{\"customStyle\":null,\"excerpt\":\"（更，某種神秘的力量讓我們裴姐按下了全員追蹤！，大家的留言各種搖旗 不要停 搖起來～～～-，就在今天！我們Red Velvet堅持不下去的Wendy終於開通了Instagram，期待我們勝完多多發文，\",\"anonymousSchool\":false,\"gender\":\"F\",\"topics\":[\"全員\",\"RedVelvet\",\"追星\"],\"media\":[{\"url\":\"https:\\u002F\\u002Fi.imgur.com\\u002FnZcCkHo.jpg\"},{\"url\":\"https:\\u002F\\u002Fi.imgur.com\\u002FfWdS5WQ.jpg\"},{\"url\":\"https:\\u002F\\u002Fi.imgur.com\\u002FCpUJswd.jpg\"},{\"url\":\"https:\\u002F\\u002Fi.imgur.com\\u002FobpPfbw.jpg\"},{\"url\":\"https:\\u002F\\u002Fi.imgur.com\\u002FXe1ACjY.jpg\"},{\"url\":\"https:\\u002F\\u002Fi.imgur.com\\u002FZUytI1H.jpg\"},{\"url\":\"https:\\u002F\\u002Fi.imgur.com\\u002FaIw0nWT.jpg\"}],\"replyId\":null,\"reportReasonText\":\"\",\"meta\":{\"layout\":\"classic\"},\"isSuspiciousAccount\":false,\"mediaMeta\":[{\"id\":\"89f82324-5f97-4ca5-9e0f-e27d32beb2c7\",\"url\":\"https:\\u002F\\u002Fi.imgur.com\\u002FnZcCkHol.jpg\",\"normalizedUrl\":\"https:\\u002F\\u002Fi.imgur.com\\u002FnZcCkHol.jpg\",\"thumbnail\":\"https:\\u002F\\u002Fi.imgur.com\\u002FnZcCkHol.jpg\",\"type\":\"image\\u002Fthumbnail\",\"tags\":[\"ANNOTATED\"],\"createdAt\":\"2019-12-06T15:40:36.249Z\",\"updatedAt\":\"2019-12-07T15:03:22.296Z\"},{\"id\":\"89f82324-5f97-4ca5-9e0f-e27d32beb2c7\",\"url\":\"https:\\u002F\\u002Fi.imgur.com\\u002FnZcCkHo.jpg\",\"normalizedUrl\":\"https:\\u002F\\u002Fimgur.com\\u002FnZcCkHo\",\"thumbnail\":\"https:\\u002F\\u002Fi.imgur.com\\u002FnZcCkHol.jpg\",\"type\":\"image\\u002Fimgur\",\"tags\":[\"ANNOTATED\"],\"createdAt\":\"2019-12-06T15:40:36.249Z\",\"updatedAt\":\"2019-12-07T15:03:22.296Z\"},{\"id\":\"453df06a-1b1d-4a49-a79f-82f1264d5c6b\",\"url\":\"https:\\u002F\\u002Fi.imgur.com\\u002FfWdS5WQ.jpg\",\"normalizedUrl\":\"https:\\u002F\\u002Fimgur.com\\u002FfWdS5WQ\",\"thumbnail\":\"https:\\u002F\\u002Fi.imgur.com\\u002FfWdS5WQl.jpg\",\"type\":\"image\\u002Fimgur\",\"tags\":[\"ANNOTATED\"],\"createdAt\":\"2019-12-06T15:40:36.249Z\",\"updatedAt\":\"2019-12-07T15:03:22.296Z\"},{\"id\":\"b0450061-0368-4fb2-a02f-d0df101cbec8\",\"url\":\"https:\\u002F\\u002Fi.imgur.com\\u002FCpUJswd.jpg\",\"normalizedUrl\":\"https:\\u002F\\u002Fimgur.com\\u002FCpUJswd\",\"thumbnail\":\"https:\\u002F\\u002Fi.imgur.com\\u002FCpUJswdl.jpg\",\"type\":\"image\\u002Fimgur\",\"tags\":[\"ANNOTATED\"],\"createdAt\":\"2019-12-06T15:40:36.249Z\",\"updatedAt\":\"2019-12-07T15:03:22.296Z\"},{\"id\":\"2aa6268a-1ec8-4774-a250-bd79cd6d010f\",\"url\":\"https:\\u002F\\u002Fi.imgur.com\\u002FobpPfbw.jpg\",\"normalizedUrl\":\"https:\\u002F\\u002Fimgur.com\\u002FobpPfbw\",\"thumbnail\":\"https:\\u002F\\u002Fi.imgur.com\\u002FobpPfbwl.jpg\",\"type\":\"image\\u002Fimgur\",\"tags\":[\"ANNOTATED\"],\"createdAt\":\"2019-12-06T15:40:36.249Z\",\"updatedAt\":\"2019-12-07T15:03:22.296Z\"},{\"id\":\"2275862b-8198-4c4f-bcbd-f849a3fafd90\",\"url\":\"https:\\u002F\\u002Fi.imgur.com\\u002FXe1ACjY.jpg\",\"normalizedUrl\":\"https:\\u002F\\u002Fimgur.com\\u002FXe1ACjY\",\"thumbnail\":\"https:\\u002F\\u002Fi.imgur.com\\u002FXe1ACjYl.jpg\",\"type\":\"image\\u002Fimgur\",\"tags\":[\"ANNOTATED\"],\"createdAt\":\"2019-12-06T15:40:36.249Z\",\"updatedAt\":\"2019-12-07T15:03:22.296Z\"},{\"id\":\"a9b63468-bb0c-4367-a15b-b49b2ead4f5c\",\"url\":\"https:\\u002F\\u002Fi.imgur.com\\u002FZUytI1H.jpg\",\"normalizedUrl\":\"https:\\u002F\\u002Fimgur.com\\u002FZUytI1H\",\"thumbnail\":\"https:\\u002F\\u002Fi.imgur.com\\u002FZUytI1Hl.jpg\",\"type\":\"image\\u002Fimgur\",\"tags\":[\"ANNOTATED\"],\"createdAt\":\"2019-12-06T15:40:36.249Z\",\"updatedAt\":\"2019-12-07T15:03:22.296Z\"},{\"id\":\"22436351-f817-4a52-9a6a-8dd178a1c838\",\"url\":\"https:\\u002F\\u002Fi.imgur.com\\u002FaIw0nWT.jpg\",\"normalizedUrl\":\"https:\\u002F\\u002Fimgur.com\\u002FaIw0nWT\",\"thumbnail\":\"https:\\u002F\\u002Fi.imgur.com\\u002FaIw0nWTl.jpg\",\"type\":\"image\\u002Fimgur\",\"tags\":[\"ANNOTATED\"],\"createdAt\":\"2019-12-06T15:40:36.249Z\",\"updatedAt\":\"2019-12-07T15:03:22.296Z\"}],\"hidden\":false,\"layout\":\"classic\",\"reactions\":[{\"id\":\"286f599c-f86a-4932-82f0-f5a06f1eca03\",\"count\":1223},{\"id\":\"011ead16-9b83-4729-9fde-c588920c6c2d\",\"count\":1},{\"id\":\"aa0d425f-d530-4478-9a77-fe3aedc79eea\",\"count\":1}],\"forumName\":\"追星\",\"replyTitle\":null,\"updatedAt\":\"2019-12-07T15:03:22.296Z\",\"forumAlias\":\"entertainer\",\"commentCount\":46,\"department\":\"niiiiiniiiii\",\"withNickname\":true,\"school\":\"💚💜💗💛💙\",\"title\":\"(更 Red Velvet全員開通IG🎉\",\"likeCount\":1225,\"pinned\":false,\"tags\":[],\"postAvatar\":\"\",\"id\":232638810,\"createdAt\":\"2019-12-06T15:40:36.249Z\",\"globalPinned\":null,\"forumId\":\"14f573f5-3f02-4821-8e18-f561d7b7db91\",\"withImages\":true,\"withVideos\":false,\"anonymousDepartment\":false},{\"customStyle\":null,\"excerpt\":\"身為一個被我們老哥照顧過的病患，報恩（仇）這種事是一定要的，老天爺給了我這個機會我怎麼能夠放棄呢？是不是！！很有道理！！，- 大綱 ： 我跟翔翔哥哥騎車下坡滑倒，翔翔以肉身之軀奮力的拯救了他可愛美麗大\",\"anonymousSchool\":false,\"gender\":\"F\",\"topics\":[\"妹妹很可怕\",\"報仇\",\"善良\"],\"media\":[{\"url\":\"https:\\u002F\\u002Fi.imgur.com\\u002FpwHz9dm.jpg\"},{\"url\":\"https:\\u002F\\u002Fi.imgur.com\\u002FHW183N6.jpg\"}],\"replyId\":null,\"reportReasonText\":\"\",\"meta\":{\"layout\":\"classic\"},\"isSuspiciousAccount\":false,\"mediaMeta\":[{\"id\":\"2c2e5bbd-7e61-4455-a699-95794127e118\",\"url\":\"https:\\u002F\\u002Fi.imgur.com\\u002FpwHz9dml.jpg\",\"normalizedUrl\":\"https:\\u002F\\u002Fi.imgur.com\\u002FpwHz9dml.jpg\",\"thumbnail\":\"https:\\u002F\\u002Fi.imgur.com\\u002FpwHz9dml.jpg\",\"type\":\"image\\u002Fthumbnail\",\"tags\":[\"ANNOTATED\"],\"createdAt\":\"2019-12-06T14:19:53.643Z\",\"updatedAt\":\"2019-12-06T14:21:52.370Z\"},{\"id\":\"2c2e5bbd-7e61-4455-a699-95794127e118\",\"url\":\"https:\\u002F\\u002Fi.imgur.com\\u002FpwHz9dm.jpg\",\"normalizedUrl\":\"https:\\u002F\\u002Fimgur.com\\u002FpwHz9dm\",\"thumbnail\":\"https:\\u002F\\u002Fi.imgur.com\\u002FpwHz9dml.jpg\",\"type\":\"image\\u002Fimgur\",\"tags\":[\"ANNOTATED\"],\"createdAt\":\"2019-12-06T14:19:53.643Z\",\"updatedAt\":\"2019-12-06T14:21:52.370Z\"},{\"id\":\"51444049-81fb-47bf-a795-eba47ba5c84a\",\"url\":\"https:\\u002F\\u002Fi.imgur.com\\u002FHW183N6.jpg\",\"normalizedUrl\":\"https:\\u002F\\u002Fimgur.com\\u002FHW183N6\",\"thumbnail\":\"https:\\u002F\\u002Fi.imgur.com\\u002FHW183N6l.jpg\",\"type\":\"image\\u002Fimgur\",\"tags\":[\"ANNOTATED\"],\"createdAt\":\"2019-12-06T14:19:53.643Z\",\"updatedAt\":\"2019-12-06T14:21:52.370Z\"}],\"hidden\":false,\"layout\":\"classic\",\"reactions\":[{\"id\":\"286f599c-f86a-4932-82f0-f5a06f1eca03\",\"count\":1095},{\"id\":\"e8e6bc5d-41b0-4129-b134-97507523d7ff\",\"count\":103}],\"forumName\":\"有趣\",\"replyTitle\":null,\"updatedAt\":\"2019-12-06T14:21:52.370Z\",\"forumAlias\":\"funny\",\"commentCount\":32,\"department\":\"dadandme\",\"withNickname\":true,\"school\":\"奇葩父女的三兩事\",\"title\":\"我是最棒的看護(⁎⁍̴̛ᴗ⁍̴̛⁎)\",\"likeCount\":1198,\"pinned\":false,\"tags\":[],\"postAvatar\":\"\",\"id\":232638306,\"createdAt\":\"2019-12-06T14:19:53.643Z\",\"globalPinned\":null,\"forumId\":\"a1aaa6e6-2594-4968-b7dc-e1b14bea96f4\",\"withImages\":true,\"withVideos\":false,\"anonymousDepartment\":false},{\"customStyle\":null,\"excerpt\":\"嗨我不是阿米，但很想跟你們說，這幾天你們家的偶像很辛苦，而你們粉絲也辛苦了，因為獎項 因為時長，什麼好像都針對防彈而來，其實大多人都知道是主辦問題，只是狄卡會發言的大多是帶有偏見的路人，似乎一點溫暖或\",\"anonymousSchool\":false,\"gender\":\"F\",\"topics\":[\"心情\"],\"media\":[],\"replyId\":null,\"reportReasonText\":\"\",\"meta\":{\"layout\":\"classic\"},\"isSuspiciousAccount\":false,\"mediaMeta\":[],\"hidden\":false,\"layout\":\"classic\",\"reactions\":[{\"id\":\"286f599c-f86a-4932-82f0-f5a06f1eca03\",\"count\":1066},{\"id\":\"514c2569-fd53-4d9d-a415-bf0f88e7329f\",\"count\":13},{\"id\":\"011ead16-9b83-4729-9fde-c588920c6c2d\",\"count\":6},{\"id\":\"aa0d425f-d530-4478-9a77-fe3aedc79eea\",\"count\":4}],\"forumName\":\"BTS\",\"replyTitle\":null,\"updatedAt\":\"2019-12-06T10:40:30.509Z\",\"forumAlias\":\"bts\",\"commentCount\":66,\"withNickname\":false,\"school\":\"高雄醫學大學\",\"title\":\"你們很棒 表演很精彩\",\"likeCount\":1089,\"pinned\":false,\"tags\":[\"HIDE_THUMBNAIL\"],\"postAvatar\":\"\",\"id\":232637005,\"createdAt\":\"2019-12-06T10:40:30.509Z\",\"globalPinned\":null,\"forumId\":\"9e4476fc-d1b4-4490-a578-fc4dc95ffc52\",\"withImages\":false,\"withVideos\":false,\"anonymousDepartment\":true},{\"customStyle\":null,\"excerpt\":\"雖然不能說全部，但是在我當業務幾年下來，看了形形色色的客戶後我發現：精進自己的女孩不但自信、也不情緒化，他身旁的男人也會被帶動跟著優秀起來。怎樣才叫精進呢？我不能完全說明，但我可以舉兩個小例子：接納別\",\"anonymousSchool\":false,\"gender\":\"F\",\"topics\":[\"女孩\"],\"media\":[],\"replyId\":null,\"reportReasonText\":\"\",\"meta\":{\"layout\":\"classic\"},\"isSuspiciousAccount\":false,\"mediaMeta\":[],\"hidden\":false,\"layout\":\"classic\",\"reactions\":[{\"id\":\"286f599c-f86a-4932-82f0-f5a06f1eca03\",\"count\":1084},{\"id\":\"e8e6bc5d-41b0-4129-b134-97507523d7ff\",\"count\":3},{\"id\":\"4b018f48-e184-445f-adf1-fc8e04ba09b9\",\"count\":1}],\"forumName\":\"女孩\",\"replyTitle\":null,\"updatedAt\":\"2019-12-06T17:15:28.859Z\",\"forumAlias\":\"girl\",\"commentCount\":18,\"department\":\"iamnotyours\",\"withNickname\":true,\"school\":\"氯己烷\",\"title\":\"女孩要懂得精進自己！\",\"likeCount\":1088,\"pinned\":false,\"tags\":[],\"postAvatar\":\"\",\"id\":232635597,\"createdAt\":\"2019-12-06T06:29:58.060Z\",\"globalPinned\":null,\"forumId\":\"f72e3b1d-3c9a-4fec-8a61-41c76cc317af\",\"withImages\":false,\"withVideos\":false,\"anonymousDepartment\":false},{\"customStyle\":null,\"excerpt\":\"先謝謝大家的鼓勵及批評，我都虛心接受，看到上熱門真的嚇死我了，然後我要先申明我真的沒有吃減肥藥！，也不是直銷代餐減肥，完完全全都是靠自己瘦下來的！！，我知道很多人都在求方法，所以要來分享了，我基本上是\",\"anonymousSchool\":false,\"gender\":\"F\",\"topics\":[\"減肥\",\"圖\",\"心得\",\"食物\",\"運動\"],\"media\":[{\"url\":\"https:\\u002F\\u002Fi.imgur.com\\u002Fj64itT1.jpg\"},{\"url\":\"https:\\u002F\\u002Fi.imgur.com\\u002FknochSw.jpg\"},{\"url\":\"https:\\u002F\\u002Fi.imgur.com\\u002FDu49z0K.jpg\"},{\"url\":\"https:\\u002F\\u002Fi.imgur.com\\u002FyTXkPsW.jpg\"},{\"url\":\"https:\\u002F\\u002Fi.imgur.com\\u002FSJOKdf2.jpg\"},{\"url\":\"https:\\u002F\\u002Fi.imgur.com\\u002FYHI8wxs.jpg\"},{\"url\":\"https:\\u002F\\u002Fi.imgur.com\\u002FMRCO4r7.jpg\"},{\"url\":\"https:\\u002F\\u002Fi.imgur.com\\u002Fn165MZm.jpg\"}],\"replyId\":232621982,\"reportReasonText\":\"\",\"meta\":{\"layout\":\"classic\"},\"isSuspiciousAccount\":false,\"mediaMeta\":[{\"id\":\"137d939e-7d49-4725-b4fa-9bba7e9b5272\",\"url\":\"https:\\u002F\\u002Fi.imgur.com\\u002Fj64itT1l.jpg\",\"normalizedUrl\":\"https:\\u002F\\u002Fi.imgur.com\\u002Fj64itT1l.jpg\",\"thumbnail\":\"https:\\u002F\\u002Fi.imgur.com\\u002Fj64itT1l.jpg\",\"type\":\"image\\u002Fthumbnail\",\"tags\":[\"ANNOTATED\"],\"createdAt\":\"2019-12-06T04:59:57.814Z\",\"updatedAt\":\"2019-12-06T10:58:23.767Z\"},{\"id\":\"137d939e-7d49-4725-b4fa-9bba7e9b5272\",\"url\":\"https:\\u002F\\u002Fi.imgur.com\\u002Fj64itT1.jpg\",\"normalizedUrl\":\"https:\\u002F\\u002Fimgur.com\\u002Fj64itT1\",\"thumbnail\":\"https:\\u002F\\u002Fi.imgur.com\\u002Fj64itT1l.jpg\",\"type\":\"image\\u002Fimgur\",\"tags\":[\"ANNOTATED\"],\"createdAt\":\"2019-12-06T04:59:57.814Z\",\"updatedAt\":\"2019-12-06T10:58:23.767Z\"},{\"id\":\"d8da1244-b889-4996-bef3-68f379a6c80a\",\"url\":\"https:\\u002F\\u002Fi.imgur.com\\u002FknochSw.jpg\",\"normalizedUrl\":\"https:\\u002F\\u002Fimgur.com\\u002FknochSw\",\"thumbnail\":\"https:\\u002F\\u002Fi.imgur.com\\u002FknochSwl.jpg\",\"type\":\"image\\u002Fimgur\",\"tags\":[\"ANNOTATED\"],\"createdAt\":\"2019-12-06T04:59:57.814Z\",\"updatedAt\":\"2019-12-06T10:58:23.767Z\"},{\"id\":\"a8a31efa-ac36-4a90-8aa2-44456cabbe86\",\"url\":\"https:\\u002F\\u002Fi.imgur.com\\u002FDu49z0K.jpg\",\"normalizedUrl\":\"https:\\u002F\\u002Fimgur.com\\u002FDu49z0K\",\"thumbnail\":\"https:\\u002F\\u002Fi.imgur.com\\u002FDu49z0Kl.jpg\",\"type\":\"image\\u002Fimgur\",\"tags\":[\"ANNOTATED\"],\"createdAt\":\"2019-12-06T04:59:57.814Z\",\"updatedAt\":\"2019-12-06T10:58:23.767Z\"},{\"id\":\"5a40d5fc-cfbb-45bd-8fae-b496eb4a76d8\",\"url\":\"https:\\u002F\\u002Fi.imgur.com\\u002FyTXkPsW.jpg\",\"normalizedUrl\":\"https:\\u002F\\u002Fimgur.com\\u002FyTXkPsW\",\"thumbnail\":\"https:\\u002F\\u002Fi.imgur.com\\u002FyTXkPsWl.jpg\",\"type\":\"image\\u002Fimgur\",\"tags\":[\"ANNOTATED\"],\"createdAt\":\"2019-12-06T04:59:57.814Z\",\"updatedAt\":\"2019-12-06T10:58:23.767Z\"},{\"id\":\"f6bafc18-b256-4152-a4ea-d82aaefcde47\",\"url\":\"https:\\u002F\\u002Fi.imgur.com\\u002FSJOKdf2.jpg\",\"normalizedUrl\":\"https:\\u002F\\u002Fimgur.com\\u002FSJOKdf2\",\"thumbnail\":\"https:\\u002F\\u002Fi.imgur.com\\u002FSJOKdf2l.jpg\",\"type\":\"image\\u002Fimgur\",\"tags\":[\"ANNOTATED\"],\"createdAt\":\"2019-12-06T04:59:57.814Z\",\"updatedAt\":\"2019-12-06T10:58:23.767Z\"},{\"id\":\"ae10ef60-cc7d-4ab6-abf5-22872d21fbdc\",\"url\":\"https:\\u002F\\u002Fi.imgur.com\\u002FYHI8wxs.jpg\",\"normalizedUrl\":\"https:\\u002F\\u002Fimgur.com\\u002FYHI8wxs\",\"thumbnail\":\"https:\\u002F\\u002Fi.imgur.com\\u002FYHI8wxsl.jpg\",\"type\":\"image\\u002Fimgur\",\"tags\":[\"ANNOTATED\"],\"createdAt\":\"2019-12-06T04:59:57.814Z\",\"updatedAt\":\"2019-12-06T10:58:23.767Z\"},{\"id\":\"9befb3f2-bf4b-452f-8478-a087542e158e\",\"url\":\"https:\\u002F\\u002Fi.imgur.com\\u002FMRCO4r7.jpg\",\"normalizedUrl\":\"https:\\u002F\\u002Fimgur.com\\u002FMRCO4r7\",\"thumbnail\":\"https:\\u002F\\u002Fi.imgur.com\\u002FMRCO4r7l.jpg\",\"type\":\"image\\u002Fimgur\",\"tags\":[\"ANNOTATED\"],\"createdAt\":\"2019-12-06T04:59:57.814Z\",\"updatedAt\":\"2019-12-06T10:58:23.767Z\"},{\"id\":\"930d6be0-ecb7-458f-bc1e-4e9518d6b0e2\",\"url\":\"https:\\u002F\\u002Fi.imgur.com\\u002Fn165MZm.jpg\",\"normalizedUrl\":\"https:\\u002F\\u002Fimgur.com\\u002Fn165MZm\",\"thumbnail\":\"https:\\u002F\\u002Fi.imgur.com\\u002Fn165MZml.jpg\",\"type\":\"image\\u002Fimgur\",\"tags\":[\"ANNOTATED\"],\"createdAt\":\"2019-12-06T05:34:16.913Z\",\"updatedAt\":\"2019-12-06T10:58:23.767Z\"}],\"hidden\":false,\"layout\":\"classic\",\"reactions\":[{\"id\":\"286f599c-f86a-4932-82f0-f5a06f1eca03\",\"count\":1042},{\"id\":\"011ead16-9b83-4729-9fde-c588920c6c2d\",\"count\":1}],\"forumName\":\"減肥\",\"replyTitle\":\"10個月剷肉21kg#圖\",\"updatedAt\":\"2019-12-06T10:58:23.767Z\",\"forumAlias\":\"weight_loss\",\"commentCount\":46,\"withNickname\":false,\"school\":\"亞東技術學院\",\"title\":\"10個月鏟肉21kg\\u002F更新\",\"likeCount\":1043,\"pinned\":false,\"tags\":[],\"postAvatar\":\"\",\"id\":232635135,\"createdAt\":\"2019-12-06T04:59:57.814Z\",\"globalPinned\":null,\"forumId\":\"8a2a0b9a-7664-49b0-bff7-58389ef73a0d\",\"withImages\":true,\"withVideos\":false,\"anonymousDepartment\":true}]},\"profanities\":{\"store\":[]},\"regulation\":{},\"routing\":{\"locationBeforeTransitions\":{\"pathname\":\"\\u002Ff\",\"search\":\"?User-Agent=Mozilla%2F5.0+%28Windows+NT+6.1%3B+Win64%3B+x64%29+AppleWebKit%2F537.36+%28KHTML%2C+like+Gecko%29+Chrome%2F78.0.3904.70+Safari%2F537.36\",\"hash\":\"\",\"action\":\"POP\",\"key\":null,\"query\":{\"User-Agent\":\"Mozilla\\u002F5.0 (Windows NT 6.1; Win64; x64) AppleWebKit\\u002F537.36 (KHTML, like Gecko) Chrome\\u002F78.0.3904.70 Safari\\u002F537.36\"}}},\"search\":{\"searchPosts\":{\"store\":{}}},\"schools\":{\"store\":[]},\"socialLogin\":{\"info\":{}},\"toasts\":{\"queue\":[]},\"topics\":{\"store\":[]},\"topicPagination\":{\"store\":{}},\"topicStat\":{},\"topicSuggestions\":{\"list\":[]},\"trending\":{},\"surveyTeam\":{},\"surveyTeamLastSeenTime\":{},\"surveyTeamStatus\":{}}</script><script defer=\"\" src=\"/build/vendor-5620d139.js\"></script><script defer=\"\" src=\"/build/desktop-ffae7854.js\"></script></body></html>\n為什麼要使用 BeatifulSoup 處理？因為套件提供功能的相容度好，處理速度快，也有提供解析器解析不同格式\n處理後的型態是什麼？: <class 'bs4.BeautifulSoup'>\n"
    }
   ],
   "source": [
    "from bs4 import BeautifulSoup\n",
    "\n",
    "soup = BeautifulSoup(r.text, \"html.parser\")\n",
    "print(soup)\n",
    "print('為什麼要使用 BeatifulSoup 處理？因為套件提供功能的相容度好，處理速度快，也有提供解析器解析不同格式\\n處理後的型態是什麼？:', type(soup))"
   ]
  },
  {
   "cell_type": "code",
   "execution_count": 45,
   "metadata": {},
   "outputs": [
    {
     "name": "stdout",
     "output_type": "stream",
     "text": "<html>\n<head><title>400 Bad Request</title></head>\n<body bgcolor=\"white\">\n<center><h1>400 Bad Request</h1></center>\n<hr><center>openresty</center>\n</body>\n</html>\n\n"
    }
   ],
   "source": [
    "import requests \n",
    "url = 'https://www.zhihu.com/explore'\n",
    "r = requests.get(url)\n",
    "r.encoding = 'utf-8'\n",
    "\n",
    "print(r.text[0:600])"
   ]
  },
  {
   "cell_type": "code",
   "execution_count": 50,
   "metadata": {},
   "outputs": [
    {
     "name": "stdout",
     "output_type": "stream",
     "text": "<!doctype html>\n<html lang=\"zh\" data-hairline=\"true\" data-theme=\"light\"><head><meta charSet=\"utf-8\"/><title data-react-helmet=\"true\">发现 - 知乎</title><meta name=\"viewport\" content=\"width=device-width,initial-scale=1,maximum-scale=1\"/><meta name=\"renderer\" content=\"webkit\"/><meta name=\"force-rendering\" content=\"webkit\"/><meta http-equiv=\"X-UA-Compatible\" content=\"IE=edge,chrome=1\"/><meta name=\"google-site-verification\" content=\"FTeR0c8arOPKh8c5DYh_9uu98_zJbaWw53J-Sch9MTg\"/><meta name=\"description\" property=\"og:description\" content=\"有问题，上知乎。知乎，可信赖的问答社区，以让每个人高效获得可信赖的解答为使命。知乎凭借认真、专业和友善的社区氛围，结构化、易获得的\n"
    }
   ],
   "source": [
    "import requests \n",
    "url = 'https://www.zhihu.com/explore'\n",
    "req_heads = {\n",
    "    \"User-Agent\":\"Mozilla/5.0 (Windows NT 6.1; Win64; x64) AppleWebKit/537.36 (KHTML, like Gecko) Chrome/78.0.3904.70 Safari/537.36\"\n",
    "}\n",
    "r = requests.get(url,headers=req_heads)\n",
    "r.encoding = 'utf-8'\n",
    "print(r.text[0:600])"
   ]
  }
 ]
}